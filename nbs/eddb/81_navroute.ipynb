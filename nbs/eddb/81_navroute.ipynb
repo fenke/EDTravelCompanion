{
 "cells": [
  {
   "cell_type": "markdown",
   "metadata": {},
   "source": [
    "---\n",
    "execute:\n",
    "    echo: false\n",
    "---\n",
    "\n",
    "# Elite Dangerous - Navigation\n",
    "\n",
    "> Elite Dangerous - Navigating the galaxy"
   ]
  },
  {
   "cell_type": "code",
   "execution_count": null,
   "metadata": {},
   "outputs": [],
   "source": [
    "#| default_exp eddb.navigation"
   ]
  },
  {
   "cell_type": "code",
   "execution_count": null,
   "metadata": {},
   "outputs": [],
   "source": [
    "#| hide\n",
    "from nbdev.showdoc import *"
   ]
  },
  {
   "cell_type": "code",
   "execution_count": null,
   "metadata": {},
   "outputs": [],
   "source": [
    "#| export\n",
    "import os\n",
    "import json\n",
    "\n",
    "from logging import getLogger\n"
   ]
  },
  {
   "cell_type": "code",
   "execution_count": null,
   "metadata": {},
   "outputs": [],
   "source": [
    "#| exporti\n",
    "syslog = getLogger(f\"root.{__name__}\")\n",
    "default_journaling_path = os.getcwd()"
   ]
  },
  {
   "cell_type": "markdown",
   "metadata": {},
   "source": [
    "### Navigation route\n",
    "\n",
    "Iterate through the route items in the Elite Dangerous navigation route file\n"
   ]
  },
  {
   "cell_type": "code",
   "execution_count": null,
   "metadata": {},
   "outputs": [],
   "source": [
    "#| export\n",
    "def navigationroute(journalingpath:str=None):\n",
    "    '''\n",
    "        Iter over Navigation Route files\n",
    "\n",
    "        Args:\n",
    "            journalingpath (str): Path to directory with Elite Dangerous logfiles\n",
    "    \n",
    "    '''\n",
    "\n",
    "    try:\n",
    "        navfile = os.path.join(\n",
    "            default_journaling_path if journalingpath is None else journalingpath, \n",
    "            \"NavRoute.json\"\n",
    "        )\n",
    "\n",
    "        syslog.debug(\"Reading Navigation Route from %s\" % navfile)\n",
    "\n",
    "        with open(navfile, \"rt\") as jsonfile:\n",
    "            for item in json.load(jsonfile).get('Route'):\n",
    "                yield item\n",
    "\n",
    "    except KeyboardInterrupt as kbi:\n",
    "        syslog.exception(\"Keyboard Interrupt\", exc_info=True)\n",
    "        \n"
   ]
  },
  {
   "cell_type": "code",
   "execution_count": null,
   "metadata": {},
   "outputs": [
    {
     "name": "stdout",
     "output_type": "stream",
     "text": [
      "The journaling path is c:\\Users\\fenke\\repos\\EDTravelCompanion\\nbs\\eddb\n"
     ]
    }
   ],
   "source": [
    "journaling_path = os.getcwd()\n",
    "print(\"The journaling path is %s\" % journaling_path)\n"
   ]
  },
  {
   "cell_type": "code",
   "execution_count": null,
   "metadata": {},
   "outputs": [
    {
     "name": "stdout",
     "output_type": "stream",
     "text": [
      "Writing Navigation Route to c:\\Users\\fenke\\repos\\EDTravelCompanion\\nbs\\eddb\\NavRoute.json\n"
     ]
    }
   ],
   "source": [
    "test_data = { \"timestamp\":\"2024-10-15T19:11:31Z\", \"event\":\"NavRouteClear\", \"Route\":[ \n",
    "    { \"StarSystem\":\"Nyeajeou RO-N c21-2\", \"SystemAddress\":618038401210, \"StarClass\":\"K\", \"RemainingJumpsInRoute\":11 },\n",
    "    { \"StarSystem\":\"Nyeajeou SE-M c22-5\", \"SystemAddress\":1442739296450, \"StarClass\":\"K\", \"RemainingJumpsInRoute\":10 },\n",
    "    { \"StarSystem\":\"Nyeajeou UP-K c23-2\", \"SystemAddress\":618105608394, \"StarClass\":\"K\", \"RemainingJumpsInRoute\":9 }\n",
    " ] }\n",
    "\n",
    "navfile = os.path.join(journaling_path, \"NavRoute.json\")\n",
    "print(\"Writing Navigation Route to %s\" % navfile)\n",
    "with open(navfile, \"wt\") as jsonfile:\n",
    "    json.dump(test_data, jsonfile, indent=2)"
   ]
  },
  {
   "cell_type": "code",
   "execution_count": null,
   "metadata": {},
   "outputs": [
    {
     "name": "stdout",
     "output_type": "stream",
     "text": [
      "Reading Navigation Route from c:\\Users\\fenke\\repos\\EDTravelCompanion\\nbs\\eddb\\NavRoute.json\n",
      "\n",
      "{'StarSystem': 'Nyeajeou RO-N c21-2', 'SystemAddress': 618038401210, 'StarClass': 'K', 'RemainingJumpsInRoute': 11}\n",
      "{'StarSystem': 'Nyeajeou SE-M c22-5', 'SystemAddress': 1442739296450, 'StarClass': 'K', 'RemainingJumpsInRoute': 10}\n",
      "{'StarSystem': 'Nyeajeou UP-K c23-2', 'SystemAddress': 618105608394, 'StarClass': 'K', 'RemainingJumpsInRoute': 9}\n"
     ]
    }
   ],
   "source": [
    "\n",
    "print(\"Reading Navigation Route from %s\\n\" % os.path.join(journaling_path, \"NavRoute.json\"))\n",
    "\n",
    "for read_item, test_item in zip(navigationroute(journaling_path), test_data.get('Route'), strict=True):\n",
    "    print(read_item)\n",
    "    assert str(read_item) == str(test_item), \"Items do not match %s != %s\" % (str(read_item), str(test_item))"
   ]
  },
  {
   "cell_type": "code",
   "execution_count": null,
   "metadata": {},
   "outputs": [],
   "source": []
  },
  {
   "cell_type": "code",
   "execution_count": null,
   "metadata": {},
   "outputs": [],
   "source": [
    "#| hide\n",
    "import nbdev; nbdev.nbdev_export()"
   ]
  }
 ],
 "metadata": {
  "kernelspec": {
   "display_name": "python3",
   "language": "python",
   "name": "python3"
  }
 },
 "nbformat": 4,
 "nbformat_minor": 2
}
