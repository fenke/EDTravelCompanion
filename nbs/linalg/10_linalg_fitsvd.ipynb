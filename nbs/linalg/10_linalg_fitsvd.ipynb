{
 "cells": [
  {
   "cell_type": "markdown",
   "metadata": {},
   "source": [
    "---\n",
    "title: Linear Algebra - SVD Fit\n",
    "---\n",
    "\n",
    "\n",
    "# Linear Algebra - SVD Fit\n",
    "\n",
    "> Fit a line with Singular Value Decomposition\n",
    "\n",
    "From [@2018-06-tetrel-line-svd](https://ltetrel.github.io/data-science/2018/06/08/line_svd.html)"
   ]
  },
  {
   "cell_type": "code",
   "execution_count": null,
   "metadata": {},
   "outputs": [],
   "source": [
    "#| default_exp linalg.fitsvd"
   ]
  },
  {
   "cell_type": "code",
   "execution_count": null,
   "metadata": {},
   "outputs": [],
   "source": [
    "#| hide\n",
    "from nbdev.showdoc import *"
   ]
  },
  {
   "cell_type": "code",
   "execution_count": null,
   "metadata": {},
   "outputs": [],
   "source": [
    "## imports\n",
    "import numpy as np\n",
    "import matplotlib.pyplot as plt\n",
    "import plotly.graph_objects as go\n"
   ]
  },
  {
   "cell_type": "code",
   "execution_count": null,
   "metadata": {},
   "outputs": [],
   "source": [
    "\n",
    "# fixing numpy random state for reproducibility\n",
    "np.random.seed(0)"
   ]
  },
  {
   "cell_type": "code",
   "execution_count": null,
   "metadata": {},
   "outputs": [
    {
     "data": {
      "text/plain": [
       "array([[ -0.43239394,   5.2846018 ,   4.64166236],\n",
       "       [  4.69710663,  10.34085376,   4.89428804],\n",
       "       [ 10.38433813,  14.77211184,   4.86253772],\n",
       "       [ 14.68806144,  20.02061545,   4.58513691],\n",
       "       [ 20.45065105,  25.20711143,   4.7849474 ],\n",
       "       [ 25.08189079,  30.32704865,   5.39278925],\n",
       "       [ 29.68266089,  35.02685702,   4.61771633],\n",
       "       [ 34.76671087,  40.09027379,   5.12648899],\n",
       "       [ 39.98436165,  44.61094005,   4.76272142],\n",
       "       [ 45.49484704,  49.80584215,   4.58049259],\n",
       "       [ 49.78954424,  55.32299422,   5.01648187],\n",
       "       [ 55.35968398,  60.14100472,   4.56288296],\n",
       "       [ 59.57669469,  65.21716315,   5.16036896],\n",
       "       [ 64.89978713,  69.5368027 ,   5.35219867],\n",
       "       [ 70.24308336,  74.62644317,   5.00810777],\n",
       "       [ 74.60103891,  80.3144821 ,   4.96733141],\n",
       "       [ 80.17373037,  85.18345744,   5.05312304],\n",
       "       [ 85.06692255,  90.14265312,   4.58502923],\n",
       "       [ 89.76825581,  94.77245301,   5.21008655],\n",
       "       [ 94.92229058,  99.72082057,   4.70440963],\n",
       "       [100.15546954, 104.72912724,   4.7641061 ],\n",
       "       [105.35849351, 109.63405453,   5.05867853],\n",
       "       [110.01358955, 115.05163082,   4.932154  ],\n",
       "       [114.87883075, 120.00182043,   4.63321146],\n",
       "       [119.87226524, 125.09857205,   5.08330824]])"
      ]
     },
     "execution_count": null,
     "metadata": {},
     "output_type": "execute_result"
    }
   ],
   "source": [
    "# input data\n",
    "n = 25\n",
    "points = np.array( [5*np.arange(n),5+5*np.arange(n),5*np.ones(n)] ).T + 0.5-np.random.rand(n,3)\n",
    "points"
   ]
  },
  {
   "cell_type": "code",
   "execution_count": null,
   "metadata": {},
   "outputs": [],
   "source": [
    "# calculating the mean of the points\n",
    "avg = np.mean(points, axis=0)\n",
    "\n",
    "# subtracting the mean from all points\n",
    "subtracted = points - avg\n",
    "\n",
    "# performing SVD\n",
    "_, _, V = np.linalg.svd(subtracted)"
   ]
  },
  {
   "cell_type": "code",
   "execution_count": null,
   "metadata": {},
   "outputs": [
    {
     "name": "stdout",
     "output_type": "stream",
     "text": [
      "[7.08153575e-01 7.06058100e-01 6.87968476e-04]\n"
     ]
    }
   ],
   "source": [
    "# find the direction vector (which is the right singular vector corresponding to the largest singular value)\n",
    "direction = V[0, :]\n",
    "\n",
    "# A line is defined by the average and its direction\n",
    "p0 = avg\n",
    "d = direction\n",
    "print(d)"
   ]
  },
  {
   "cell_type": "code",
   "execution_count": null,
   "metadata": {},
   "outputs": [
    {
     "name": "stdout",
     "output_type": "stream",
     "text": [
      "89.96058230676098\n"
     ]
    }
   ],
   "source": [
    "d0 = np.array([0, 0, 1])\n",
    "angle = np.arccos(np.dot(d0,d)/(np.linalg.norm(d0) * np.linalg.norm(d)))\n",
    "print(angle*180/np.pi)"
   ]
  },
  {
   "cell_type": "code",
   "execution_count": null,
   "metadata": {},
   "outputs": [
    {
     "name": "stdout",
     "output_type": "stream",
     "text": [
      "[-10.83624093  -5.60662059   4.82481353] [130.79447411 135.60499941   4.96240723]\n"
     ]
    }
   ],
   "source": [
    "pa = p0 + (-100)*d\n",
    "pb = p0 + 100*d\n",
    "print(pa, pb)"
   ]
  },
  {
   "cell_type": "code",
   "execution_count": null,
   "metadata": {},
   "outputs": [
    {
     "data": {
      "text/html": [
       "<iframe\n",
       "    scrolling=\"no\"\n",
       "    width=\"100%\"\n",
       "    height=\"545px\"\n",
       "    src=\"iframe_figures/figure_65.html\"\n",
       "    frameborder=\"0\"\n",
       "    allowfullscreen\n",
       "></iframe>\n"
      ]
     },
     "metadata": {},
     "output_type": "display_data"
    }
   ],
   "source": [
    "## plotly\n",
    "trace1 = go.Scatter3d(\n",
    "    x=[pa[0],pb[0]],\n",
    "    y=[pa[1],pb[1]],\n",
    "    z=[pa[2],pb[2]],\n",
    "    mode='lines',\n",
    "    name='3D fitted line',\n",
    "    line=go.scatter3d.Line(color='rgb(255,0,0)', width=10),\n",
    "    hoverinfo='none')\n",
    "\n",
    "labels = []\n",
    "for i in range(n): labels += [str(i)]  \n",
    "trace2 = go.Scatter3d(\n",
    "    x=points[:,0],\n",
    "    y=points[:,1],\n",
    "    z=points[:,2],\n",
    "    mode='markers',\n",
    "    name='Points',\n",
    "    marker=go.scatter3d.Marker(\n",
    "        symbol='cross',\n",
    "        opacity=1,\n",
    "        color='rgb(0,200,127)'),\n",
    "    text=labels,\n",
    "    hoverinfo='text')\n",
    "\n",
    "layout = go.Layout(\n",
    "            title=\"3D line fitting\",\n",
    "            scene=go.layout.Scene(\n",
    "                    xaxis_title=\"x\",\n",
    "                    yaxis_title=\"y\",\n",
    "                    zaxis_title=\"z\",\n",
    "                    camera=dict(\n",
    "                           up=dict(x=0, y=0, z=1),\n",
    "                           center=dict(x=0, y=0, z=0),\n",
    "                           eye=dict(x=0, y=2.5, z=0))))     \n",
    "\n",
    "\n",
    "fig=go.Figure(data=[trace1, trace2], layout=layout)\n",
    "fig.show(renderer=\"iframe_connected\", config={'showLink': False})"
   ]
  },
  {
   "cell_type": "code",
   "execution_count": null,
   "metadata": {},
   "outputs": [],
   "source": [
    "#| export\n",
    "import numpy as np"
   ]
  },
  {
   "cell_type": "code",
   "execution_count": null,
   "metadata": {},
   "outputs": [],
   "source": [
    "#| export\n",
    "def fitline(points): \n",
    "    \n",
    "    # center the data points by subtracting the mean to \n",
    "    # remove the bias (intercept)\n",
    "    avg = np.mean(points, axis=0)\n",
    "    subtracted = points - avg\n",
    "    \n",
    "    _, _, V = np.linalg.svd(subtracted)\n",
    "\n",
    "    # the direction vector is the right singular vector \n",
    "    # corresponding to the largest singular value\n",
    "    direction = V[0, :]\n",
    "    \n",
    "    # A line is defined by a support vector, the average,\n",
    "    # and its direction\n",
    "    p0 = avg\n",
    "    d = direction\n",
    "\n",
    "    return p0, d\n",
    "\n"
   ]
  },
  {
   "cell_type": "code",
   "execution_count": null,
   "metadata": {},
   "outputs": [],
   "source": [
    "#| hide\n",
    "import nbdev; nbdev.nbdev_export()"
   ]
  }
 ],
 "metadata": {
  "kernelspec": {
   "display_name": "edcompanion",
   "language": "python",
   "name": "edcompanion"
  }
 },
 "nbformat": 4,
 "nbformat_minor": 4
}
