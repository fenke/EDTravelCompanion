{
 "cells": [
  {
   "cell_type": "markdown",
   "metadata": {},
   "source": [
    "---\n",
    "execute:\n",
    "    echo: false\n",
    "---\n",
    "\n",
    "# Markdown support for Quarto\n",
    "> Various markdown related functions in support of blogging"
   ]
  },
  {
   "cell_type": "code",
   "execution_count": null,
   "metadata": {},
   "outputs": [],
   "source": [
    "#| default_exp md.edastro"
   ]
  },
  {
   "cell_type": "code",
   "execution_count": null,
   "metadata": {},
   "outputs": [],
   "source": [
    "#| hide\n",
    "from nbdev.showdoc import *"
   ]
  },
  {
   "cell_type": "code",
   "execution_count": null,
   "metadata": {},
   "outputs": [],
   "source": [
    "#| export\n"
   ]
  },
  {
   "cell_type": "code",
   "execution_count": null,
   "metadata": {},
   "outputs": [],
   "source": [
    "#| export\n",
    "github_raw_base_url = \"https://raw.githubusercontent.com/fenke/EDTravelCompanion/main/nbs/blog/posts/ed-guardians-1/\"\n",
    "ed_astro_galmap_url=\"https://edastro.com/galmap/\"\n",
    "\n",
    "def create_galaxymap_url(markers, **kwargs):\n",
    "\n",
    "    if kwargs:\n",
    "        ed_astro_galmap_custom_url = f\"{ed_astro_galmap_url}?{'&'.join([f'{k}={v}' for k,v in kwargs.items()])}&custom=\"\n",
    "    else:\n",
    "        ed_astro_galmap_custom_url = f\"{ed_astro_galmap_url}?custom=\"\n",
    "\n",
    "    if isinstance(markers, list):\n",
    "        source = f\"{ed_astro_galmap_custom_url}{';'.join([github_raw_base_url + str(s) for s in markers])}\"\n",
    "    else:\n",
    "        source = f\"{ed_astro_galmap_custom_url}{github_raw_base_url + str(markers)}\"\n",
    "\n",
    "    return source \n"
   ]
  },
  {
   "cell_type": "code",
   "execution_count": null,
   "metadata": {},
   "outputs": [],
   "source": [
    "#| export\n",
    "def embed_galaxymap(markers, **kwargs):\n",
    "    return f''' <iframe width=100% height=800 src=\"{create_galaxymap_url(markers, **kwargs)}\"></iframe> '''\n"
   ]
  },
  {
   "cell_type": "code",
   "execution_count": null,
   "metadata": {},
   "outputs": [],
   "source": [
    "#| hide\n",
    "import nbdev; nbdev.nbdev_export()"
   ]
  }
 ],
 "metadata": {
  "kernelspec": {
   "display_name": "python3",
   "language": "python",
   "name": "python3"
  }
 },
 "nbformat": 4,
 "nbformat_minor": 2
}
