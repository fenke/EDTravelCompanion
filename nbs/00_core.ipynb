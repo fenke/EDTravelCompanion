{
 "cells": [
  {
   "cell_type": "markdown",
   "metadata": {},
   "source": [
    "# core\n",
    "\n",
    "> Fill in a module description here"
   ]
  },
  {
   "cell_type": "code",
   "execution_count": null,
   "metadata": {},
   "outputs": [],
   "source": [
    "#| default_exp core"
   ]
  },
  {
   "cell_type": "code",
   "execution_count": 1,
   "metadata": {},
   "outputs": [],
   "source": [
    "#| hide\n",
    "from nbdev.showdoc import *"
   ]
  },
  {
   "cell_type": "code",
   "execution_count": 2,
   "metadata": {},
   "outputs": [],
   "source": [
    "#| export\n",
    "\n",
    "import os, logging, configparser"
   ]
  },
  {
   "cell_type": "code",
   "execution_count": 3,
   "metadata": {},
   "outputs": [],
   "source": [
    "#| exporti\n",
    "syslog = logging.getLogger(f\"root.{__name__}\")\n"
   ]
  },
  {
   "cell_type": "code",
   "execution_count": null,
   "metadata": {},
   "outputs": [],
   "source": [
    "#| export\n",
    "\n",
    "def init_config(config_file = os.path.join(os.getcwd(), 'edcompanion.ini')):\n",
    "\n",
    "    if not hasattr(init_config, 'configurations'):\n",
    "        init_config.configurations = {}\n",
    "\n",
    "    if config_file in init_config.configurations:\n",
    "        return configuration\n",
    "\n",
    "    configuration = configparser.ConfigParser()\n",
    "    \n",
    "    def update_config():\n",
    "        with open(config_file, 'w') as f:\n",
    "            configuration.write(f)\n",
    "\n",
    "    class _config_section_proxy():\n",
    "        def __init__(self, section_key):\n",
    "            self.section_key = section_key\n",
    "\n",
    "        def __getitem__(self, key):\n",
    "            return configuration.__getitem__(self.section_key).__getitem__(key)\n",
    "\n",
    "        def __setitem__(self, key, value):\n",
    "            configuration.__getitem__(self.section_key).__setitem__(key, str(value))\n",
    "            update_config()\n",
    "\n",
    "        def __delitem__(self, key):\n",
    "            configuration.__getitem__(self.section_key).__delitem__(key)\n",
    "            update_config()\n",
    "\n",
    "        def __contains__(self, key):\n",
    "            return configuration.__getitem__(self.section_key).__contains__(key)\n",
    "\n",
    "        def __repr__(self):\n",
    "            return configuration.__getitem__(self.section_key).__repr__()\n",
    "\n",
    "    class _config_proxy():\n",
    "        def __init__(self, config_file):\n",
    "            configuration.read(config_file, encoding='utf-8')\n",
    "\n",
    "        def __getitem__(self, key):\n",
    "            return _config_section_proxy(key)\n",
    "\n",
    "        def __setitem__(self, key, value):\n",
    "            configuration.__setitem__(key, value)\n",
    "            update_config()\n",
    "\n",
    "        def __delitem__(self, key):\n",
    "            configuration.__delitem__(key)\n",
    "            update_config()\n",
    "\n",
    "        def __contains__(self, key):\n",
    "            return configuration.__contains__(key)\n",
    "\n",
    "        def __repr__(self):\n",
    "            return configuration.__repr__()\n",
    "        \n",
    "    init_config.configurations[config_file] = _config_proxy(config_file)\n",
    "\n",
    "    return init_config.configurations[config_file]\n",
    "\n",
    "\n",
    "\n"
   ]
  },
  {
   "cell_type": "code",
   "execution_count": 67,
   "metadata": {},
   "outputs": [],
   "source": [
    "conf = init_config()"
   ]
  },
  {
   "cell_type": "code",
   "execution_count": 73,
   "metadata": {},
   "outputs": [],
   "source": [
    "conf[\"DBCONFIG\"] = {\n",
    "\"db-url\": \"mydb.com/connection-string\",\n",
    "\"port\": \"3306\",\n",
    "\"ipaddr\": \"100.10.10.1\"\n",
    "}\n"
   ]
  },
  {
   "cell_type": "code",
   "execution_count": null,
   "metadata": {},
   "outputs": [],
   "source": [
    "#| hide\n",
    "import nbdev; nbdev.nbdev_export()"
   ]
  }
 ],
 "metadata": {
  "kernelspec": {
   "display_name": ".venv",
   "language": "python",
   "name": "python3"
  },
  "language_info": {
   "codemirror_mode": {
    "name": "ipython",
    "version": 3
   },
   "file_extension": ".py",
   "mimetype": "text/x-python",
   "name": "python",
   "nbconvert_exporter": "python",
   "pygments_lexer": "ipython3",
   "version": "3.12.7"
  }
 },
 "nbformat": 4,
 "nbformat_minor": 4
}
